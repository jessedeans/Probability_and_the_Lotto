{
 "cells": [
  {
   "cell_type": "markdown",
   "metadata": {},
   "source": [
    "# Probability of Winning the Lottery\n",
    "\n",
    "In this notebook I will explore the probability of winning the [6/49 lottery](https://en.wikipedia.org/wiki/Lotto_6/49).\n",
    "\n",
    "In the 6/49 lottery, six numbers are drawn from a set of 49 numbers that range from 1 to 49. A player wins the big prize if the six numbers on their tickets match all the six numbers drawn. If a player has a ticket with the numbers {13, 22, 24, 27, 42, 44}, the player only wins the big prize if the numbers drawn are {13, 22, 24, 27, 42, 44}. If only one number differs, the player doesn't win.\n",
    "\n",
    "The [data set](https://www.kaggle.com/datascienceai/lottery-dataset) has data for 3,665 drawings, dating from 1982 to 2018."
   ]
  },
  {
   "cell_type": "markdown",
   "metadata": {},
   "source": [
    "## Core Functions\n",
    "\n",
    "Below, I'll  write two functions that I'll be using frequently:\n",
    "- `factorial()` — a function that calculates factorials\n",
    "- `combinations()` — a function that calculates combinations"
   ]
  },
  {
   "cell_type": "code",
   "execution_count": 1,
   "metadata": {},
   "outputs": [],
   "source": [
    "def factorial(n):\n",
    "    final_product =1\n",
    "    for i in range(n,0,-1):\n",
    "        final_product*=i\n",
    "    return final_product\n",
    "\n",
    "def combinations(n,k):\n",
    "    numerator = factorial(n)\n",
    "    denominator = factorial(k)*factorial(n-k)\n",
    "    return numerator/denominator"
   ]
  },
  {
   "cell_type": "markdown",
   "metadata": {},
   "source": [
    "##  Win the Big Prize with One Ticket\n",
    "\n",
    "Below I'll build a function that calculates the probability of winning the big prize for any given ticket. For each drawing, six numbers are drawn from a set of 49, and a player wins the big prize if the six numbers on their tickets match all six numbers.\n",
    "\n",
    "The `one_ticket_probability()` function, takes in a list of six unique numbers and prints the probability of winning in a way that's easy to understand."
   ]
  },
  {
   "cell_type": "code",
   "execution_count": 2,
   "metadata": {},
   "outputs": [],
   "source": [
    "def one_ticket_probability(list_of_6):\n",
    "    num_combinations = combinations(49,6)\n",
    "    probability_correct = 1/num_combinations\n",
    "    porb_corr_percent = probability_correct*100\n",
    "    print('You have {:.7f}% chance of winning the big prize, or a 1 in {:,.0f} chance, with your selction of {}'.format(porb_corr_percent, num_combinations, list_of_6))"
   ]
  },
  {
   "cell_type": "code",
   "execution_count": 3,
   "metadata": {},
   "outputs": [
    {
     "name": "stdout",
     "output_type": "stream",
     "text": [
      "You have 0.0000072% chance of winning the big prize, or a 1 in 13,983,816 chance, with your selction of [30, 29, 10, 8, 3, 2]\n"
     ]
    }
   ],
   "source": [
    "test_input_1 = [30, 29, 10, 8, 3, 2]\n",
    "one_ticket_probability(test_input_1)"
   ]
  },
  {
   "cell_type": "code",
   "execution_count": 4,
   "metadata": {},
   "outputs": [
    {
     "name": "stdout",
     "output_type": "stream",
     "text": [
      "You have 0.0000072% chance of winning the big prize, or a 1 in 13,983,816 chance, with your selction of [1, 2, 3, 4, 5, 6]\n"
     ]
    }
   ],
   "source": [
    "test_input_1 = [1, 2, 3, 4, 5, 6]\n",
    "one_ticket_probability(test_input_1)"
   ]
  },
  {
   "cell_type": "markdown",
   "metadata": {},
   "source": [
    "## Has the ticket won before?\n",
    "\n",
    "Needless to say chances of winning the big prize are slim. Now I'll build a functino that checks if a ticket is a past winner.\n",
    "\n",
    "The [data set](https://www.kaggle.com/datascienceai/lottery-dataset) contains historical data for 3,665 drawings (each row shows data for a single drawing), dating from 1982 to 2018.\n",
    "\n",
    "### Explore Data"
   ]
  },
  {
   "cell_type": "code",
   "execution_count": 5,
   "metadata": {},
   "outputs": [],
   "source": [
    "import pandas as pd\n",
    "history = pd.read_csv('649.csv')"
   ]
  },
  {
   "cell_type": "code",
   "execution_count": 6,
   "metadata": {},
   "outputs": [
    {
     "name": "stdout",
     "output_type": "stream",
     "text": [
      "(3665, 11)\n"
     ]
    },
    {
     "data": {
      "text/html": [
       "<div>\n",
       "<style scoped>\n",
       "    .dataframe tbody tr th:only-of-type {\n",
       "        vertical-align: middle;\n",
       "    }\n",
       "\n",
       "    .dataframe tbody tr th {\n",
       "        vertical-align: top;\n",
       "    }\n",
       "\n",
       "    .dataframe thead th {\n",
       "        text-align: right;\n",
       "    }\n",
       "</style>\n",
       "<table border=\"1\" class=\"dataframe\">\n",
       "  <thead>\n",
       "    <tr style=\"text-align: right;\">\n",
       "      <th></th>\n",
       "      <th>PRODUCT</th>\n",
       "      <th>DRAW NUMBER</th>\n",
       "      <th>SEQUENCE NUMBER</th>\n",
       "      <th>DRAW DATE</th>\n",
       "      <th>NUMBER DRAWN 1</th>\n",
       "      <th>NUMBER DRAWN 2</th>\n",
       "      <th>NUMBER DRAWN 3</th>\n",
       "      <th>NUMBER DRAWN 4</th>\n",
       "      <th>NUMBER DRAWN 5</th>\n",
       "      <th>NUMBER DRAWN 6</th>\n",
       "      <th>BONUS NUMBER</th>\n",
       "    </tr>\n",
       "  </thead>\n",
       "  <tbody>\n",
       "    <tr>\n",
       "      <th>0</th>\n",
       "      <td>649</td>\n",
       "      <td>1</td>\n",
       "      <td>0</td>\n",
       "      <td>6/12/1982</td>\n",
       "      <td>3</td>\n",
       "      <td>11</td>\n",
       "      <td>12</td>\n",
       "      <td>14</td>\n",
       "      <td>41</td>\n",
       "      <td>43</td>\n",
       "      <td>13</td>\n",
       "    </tr>\n",
       "    <tr>\n",
       "      <th>1</th>\n",
       "      <td>649</td>\n",
       "      <td>2</td>\n",
       "      <td>0</td>\n",
       "      <td>6/19/1982</td>\n",
       "      <td>8</td>\n",
       "      <td>33</td>\n",
       "      <td>36</td>\n",
       "      <td>37</td>\n",
       "      <td>39</td>\n",
       "      <td>41</td>\n",
       "      <td>9</td>\n",
       "    </tr>\n",
       "    <tr>\n",
       "      <th>2</th>\n",
       "      <td>649</td>\n",
       "      <td>3</td>\n",
       "      <td>0</td>\n",
       "      <td>6/26/1982</td>\n",
       "      <td>1</td>\n",
       "      <td>6</td>\n",
       "      <td>23</td>\n",
       "      <td>24</td>\n",
       "      <td>27</td>\n",
       "      <td>39</td>\n",
       "      <td>34</td>\n",
       "    </tr>\n",
       "  </tbody>\n",
       "</table>\n",
       "</div>"
      ],
      "text/plain": [
       "   PRODUCT  DRAW NUMBER  SEQUENCE NUMBER  DRAW DATE  NUMBER DRAWN 1  \\\n",
       "0      649            1                0  6/12/1982               3   \n",
       "1      649            2                0  6/19/1982               8   \n",
       "2      649            3                0  6/26/1982               1   \n",
       "\n",
       "   NUMBER DRAWN 2  NUMBER DRAWN 3  NUMBER DRAWN 4  NUMBER DRAWN 5  \\\n",
       "0              11              12              14              41   \n",
       "1              33              36              37              39   \n",
       "2               6              23              24              27   \n",
       "\n",
       "   NUMBER DRAWN 6  BONUS NUMBER  \n",
       "0              43            13  \n",
       "1              41             9  \n",
       "2              39            34  "
      ]
     },
     "execution_count": 6,
     "metadata": {},
     "output_type": "execute_result"
    }
   ],
   "source": [
    "print(history.shape)\n",
    "history.head(3)"
   ]
  },
  {
   "cell_type": "code",
   "execution_count": 7,
   "metadata": {},
   "outputs": [
    {
     "data": {
      "text/html": [
       "<div>\n",
       "<style scoped>\n",
       "    .dataframe tbody tr th:only-of-type {\n",
       "        vertical-align: middle;\n",
       "    }\n",
       "\n",
       "    .dataframe tbody tr th {\n",
       "        vertical-align: top;\n",
       "    }\n",
       "\n",
       "    .dataframe thead th {\n",
       "        text-align: right;\n",
       "    }\n",
       "</style>\n",
       "<table border=\"1\" class=\"dataframe\">\n",
       "  <thead>\n",
       "    <tr style=\"text-align: right;\">\n",
       "      <th></th>\n",
       "      <th>PRODUCT</th>\n",
       "      <th>DRAW NUMBER</th>\n",
       "      <th>SEQUENCE NUMBER</th>\n",
       "      <th>DRAW DATE</th>\n",
       "      <th>NUMBER DRAWN 1</th>\n",
       "      <th>NUMBER DRAWN 2</th>\n",
       "      <th>NUMBER DRAWN 3</th>\n",
       "      <th>NUMBER DRAWN 4</th>\n",
       "      <th>NUMBER DRAWN 5</th>\n",
       "      <th>NUMBER DRAWN 6</th>\n",
       "      <th>BONUS NUMBER</th>\n",
       "    </tr>\n",
       "  </thead>\n",
       "  <tbody>\n",
       "    <tr>\n",
       "      <th>3662</th>\n",
       "      <td>649</td>\n",
       "      <td>3589</td>\n",
       "      <td>0</td>\n",
       "      <td>6/13/2018</td>\n",
       "      <td>6</td>\n",
       "      <td>22</td>\n",
       "      <td>24</td>\n",
       "      <td>31</td>\n",
       "      <td>32</td>\n",
       "      <td>34</td>\n",
       "      <td>16</td>\n",
       "    </tr>\n",
       "    <tr>\n",
       "      <th>3663</th>\n",
       "      <td>649</td>\n",
       "      <td>3590</td>\n",
       "      <td>0</td>\n",
       "      <td>6/16/2018</td>\n",
       "      <td>2</td>\n",
       "      <td>15</td>\n",
       "      <td>21</td>\n",
       "      <td>31</td>\n",
       "      <td>38</td>\n",
       "      <td>49</td>\n",
       "      <td>8</td>\n",
       "    </tr>\n",
       "    <tr>\n",
       "      <th>3664</th>\n",
       "      <td>649</td>\n",
       "      <td>3591</td>\n",
       "      <td>0</td>\n",
       "      <td>6/20/2018</td>\n",
       "      <td>14</td>\n",
       "      <td>24</td>\n",
       "      <td>31</td>\n",
       "      <td>35</td>\n",
       "      <td>37</td>\n",
       "      <td>48</td>\n",
       "      <td>17</td>\n",
       "    </tr>\n",
       "  </tbody>\n",
       "</table>\n",
       "</div>"
      ],
      "text/plain": [
       "      PRODUCT  DRAW NUMBER  SEQUENCE NUMBER  DRAW DATE  NUMBER DRAWN 1  \\\n",
       "3662      649         3589                0  6/13/2018               6   \n",
       "3663      649         3590                0  6/16/2018               2   \n",
       "3664      649         3591                0  6/20/2018              14   \n",
       "\n",
       "      NUMBER DRAWN 2  NUMBER DRAWN 3  NUMBER DRAWN 4  NUMBER DRAWN 5  \\\n",
       "3662              22              24              31              32   \n",
       "3663              15              21              31              38   \n",
       "3664              24              31              35              37   \n",
       "\n",
       "      NUMBER DRAWN 6  BONUS NUMBER  \n",
       "3662              34            16  \n",
       "3663              49             8  \n",
       "3664              48            17  "
      ]
     },
     "execution_count": 7,
     "metadata": {},
     "output_type": "execute_result"
    }
   ],
   "source": [
    "history.tail(3)"
   ]
  },
  {
   "cell_type": "markdown",
   "metadata": {},
   "source": [
    "### Build Function\n",
    "\n",
    "First I'll extract all the winning numbers from the lottery data set. The `extract_numbers()` function will go over each row of the dataframe and extract the six winning numbers as a Python set."
   ]
  },
  {
   "cell_type": "code",
   "execution_count": 8,
   "metadata": {},
   "outputs": [
    {
     "data": {
      "text/plain": [
       "0    {3, 41, 11, 12, 43, 14}\n",
       "1    {33, 36, 37, 39, 8, 41}\n",
       "2     {1, 6, 39, 23, 24, 27}\n",
       "3     {3, 9, 10, 43, 13, 20}\n",
       "4    {34, 5, 14, 47, 21, 31}\n",
       "dtype: object"
      ]
     },
     "execution_count": 8,
     "metadata": {},
     "output_type": "execute_result"
    }
   ],
   "source": [
    "def extract_numbers(row):\n",
    "    row = row[4:10]\n",
    "    numbers = set(row.values)\n",
    "    return numbers\n",
    "\n",
    "past_winners = history.apply(extract_numbers, axis=1)\n",
    "past_winners.head()"
   ]
  },
  {
   "cell_type": "markdown",
   "metadata": {},
   "source": [
    "Now I'll write the `check_historical_occurrence()` function that takes in the users numbers and the historical numbers and prints information with respect to the number of occurrences and the probability of winning in the next drawing."
   ]
  },
  {
   "cell_type": "code",
   "execution_count": 9,
   "metadata": {},
   "outputs": [],
   "source": [
    "def check_historical_occurrence(list_of_6, past_winners):\n",
    "    \"\"\"\n",
    "    list_of_6: a python list\n",
    "    past_winners: a pandas Series\n",
    "    \"\"\"\n",
    "    set_of_6 = set(list_of_6)\n",
    "    occurrence = past_winners == set_of_6\n",
    "    num_occurrences = occurrence.sum()\n",
    "    if num_occurrences == 0:\n",
    "        print('''Your combination of {} has never won.\n",
    "This doesn't mean your cobination is more likely to win now. \n",
    "Your chances of winning the big prize in the next drawing with this combination is 0.0000072%, or 1 in 13,983,816.\n",
    "        '''.format(list_of_6))\n",
    "    else:\n",
    "        print('''Your combination of {} has won {} time(s). \n",
    "This doesn't mean your cobination is more likely to win now. \n",
    "Your chances of winning the big prize in the next drawing with this combination is 0.0000072%, or 1 in 13,983,816.\n",
    "        '''.format(list_of_6, num_occurrences))"
   ]
  },
  {
   "cell_type": "code",
   "execution_count": 10,
   "metadata": {},
   "outputs": [
    {
     "name": "stdout",
     "output_type": "stream",
     "text": [
      "Your combination of [33, 36, 37, 39, 8, 41] has won 1 time(s). \n",
      "This doesn't mean your cobination is more likely to win now. \n",
      "Your chances of winning the big prize in the next drawing with this combination is 0.0000072%, or 1 in 13,983,816.\n",
      "        \n"
     ]
    }
   ],
   "source": [
    "test_input_3 = [33, 36, 37, 39, 8, 41]\n",
    "check_historical_occurrence(test_input_3, past_winners)"
   ]
  },
  {
   "cell_type": "code",
   "execution_count": 11,
   "metadata": {},
   "outputs": [
    {
     "name": "stdout",
     "output_type": "stream",
     "text": [
      "Your combination of [13, 26, 17, 9, 28, 49] has never won.\n",
      "This doesn't mean your cobination is more likely to win now. \n",
      "Your chances of winning the big prize in the next drawing with this combination is 0.0000072%, or 1 in 13,983,816.\n",
      "        \n"
     ]
    }
   ],
   "source": [
    "test_input_3 = [13, 26, 17, 9, 28, 49]\n",
    "check_historical_occurrence(test_input_3, past_winners)"
   ]
  },
  {
   "cell_type": "markdown",
   "metadata": {},
   "source": [
    "# Win with multiple tickets\n",
    "\n",
    "Now I'll explore the probability of winning with multiple different tickets. For instance, what is the chance of winning the big prize if the player plays 15 different tickets\n",
    "\n",
    "The `multi_ticket_probability()` function below takes in the number of tickets and prints probability information depending on the input."
   ]
  },
  {
   "cell_type": "code",
   "execution_count": 12,
   "metadata": {},
   "outputs": [],
   "source": [
    "def multi_ticket_probability(num_tickets):\n",
    "    '''\n",
    "    tickets: number of tickets playing as int\n",
    "    '''\n",
    "    num_combinations = combinations(49, 6)\n",
    "    probability = num_tickets/num_combinations\n",
    "    prob_perc = probability*100\n",
    "    combos = num_combinations/num_tickets\n",
    "    print(''' If you play {} ticket(s) your chance of winning the big prize is {:.7f}%, or 1 in {:,.0f} \n",
    "    '''.format(num_tickets,prob_perc,combos))\n",
    "        \n",
    "    "
   ]
  },
  {
   "cell_type": "markdown",
   "metadata": {},
   "source": [
    "Now I'll run a few test on the function."
   ]
  },
  {
   "cell_type": "code",
   "execution_count": 13,
   "metadata": {},
   "outputs": [
    {
     "name": "stdout",
     "output_type": "stream",
     "text": [
      " If you play 1 ticket(s) your chance of winning the big prize is 0.0000072%, or 1 in 13,983,816 \n",
      "    \n",
      "------------------------\n",
      " If you play 10 ticket(s) your chance of winning the big prize is 0.0000715%, or 1 in 1,398,382 \n",
      "    \n",
      "------------------------\n",
      " If you play 100 ticket(s) your chance of winning the big prize is 0.0007151%, or 1 in 139,838 \n",
      "    \n",
      "------------------------\n",
      " If you play 10000 ticket(s) your chance of winning the big prize is 0.0715112%, or 1 in 1,398 \n",
      "    \n",
      "------------------------\n",
      " If you play 1000000 ticket(s) your chance of winning the big prize is 7.1511238%, or 1 in 14 \n",
      "    \n",
      "------------------------\n",
      " If you play 6991908 ticket(s) your chance of winning the big prize is 50.0000000%, or 1 in 2 \n",
      "    \n",
      "------------------------\n",
      " If you play 13983816 ticket(s) your chance of winning the big prize is 100.0000000%, or 1 in 1 \n",
      "    \n",
      "------------------------\n"
     ]
    }
   ],
   "source": [
    "test_inputs = [1, 10, 100, 10000, 1000000, 6991908, 13983816]\n",
    "\n",
    "for test_input in test_inputs:\n",
    "    multi_ticket_probability(test_input)\n",
    "    print('------------------------') # output delimiter\n"
   ]
  },
  {
   "cell_type": "markdown",
   "metadata": {},
   "source": [
    "# Winning Smaller Prizes\n",
    "In most 6/49 lotteries, there are smaller prizes if a player's ticket matches two, three, four, or five of the six numbers drawn. \n",
    "\n",
    "The function below, `probability_less_6()`, calculates the probability that a player's ticket matches exactly the given number of winning numbers. If the player wants to find out the probability of having five winning numbers, the function will return the probability of having five winning numbers exactly (no more and no less). The function will not return the probability of having at least five winning numbers."
   ]
  },
  {
   "cell_type": "code",
   "execution_count": 14,
   "metadata": {},
   "outputs": [],
   "source": [
    "def probability_less_6(num_of_winners):\n",
    "    \"\"\"\n",
    "    num_of_winners: an integer between 2 and 5 representing the number of winning numbers expected.\n",
    "    \"\"\"\n",
    "    n_combinations_ticket = combinations(6, num_of_winners)\n",
    "    n_combinations_remaining = combinations(43, 6 - num_of_winners)\n",
    "    successful_outcomes = n_combinations_ticket * n_combinations_remaining\n",
    "    \n",
    "    n_combinations_total = combinations(49, 6)    \n",
    "    probability = successful_outcomes / n_combinations_total\n",
    "    \n",
    "    probability_percentage = probability * 100    \n",
    "    combos = round(n_combinations_total/successful_outcomes)\n",
    "    \n",
    "    print('''Your chances of having {} winning numbers with this ticket are {:.6f}% or 1 in {:,}.\n",
    "    '''.format(num_of_winners, probability_percentage, int(combos)))"
   ]
  },
  {
   "cell_type": "markdown",
   "metadata": {},
   "source": [
    "Now, I'll test the function on all the possible inputs."
   ]
  },
  {
   "cell_type": "code",
   "execution_count": 15,
   "metadata": {},
   "outputs": [
    {
     "name": "stdout",
     "output_type": "stream",
     "text": [
      "Your chances of having 2 winning numbers with this ticket are 13.237803% or 1 in 8.\n",
      "    \n",
      "--------------------------\n",
      "Your chances of having 3 winning numbers with this ticket are 1.765040% or 1 in 57.\n",
      "    \n",
      "--------------------------\n",
      "Your chances of having 4 winning numbers with this ticket are 0.096862% or 1 in 1,032.\n",
      "    \n",
      "--------------------------\n",
      "Your chances of having 5 winning numbers with this ticket are 0.001845% or 1 in 54,201.\n",
      "    \n",
      "--------------------------\n"
     ]
    }
   ],
   "source": [
    "for test_input in [2, 3, 4, 5]:\n",
    "    probability_less_6(test_input)\n",
    "    print('--------------------------') # output delimiter"
   ]
  },
  {
   "cell_type": "markdown",
   "metadata": {},
   "source": [
    "## Conclusions\n",
    "In this notebook I explored the probability of winning the 6/49 lottery. To do this I created four main functions described below.\n",
    "- `one_ticket_probability()` — calculates the probability of winning the big prize with a single ticket\n",
    "- `check_historical_occurrence()` — checks whether a certain combination has occurred in the Canada lottery data set\n",
    "- `multi_ticket_probability()` — calculates the probability for any number of of tickets between 1 and 13,983,816\n",
    "- `probability_less_6()` — calculates the probability of having two, three, four or five winning numbers exactly\n",
    "\n",
    "The notebook is based on a guided project from Dataquest, an online Data Science bootcamp. The learning goal of the project was to test understanding of theoretical and empirical probabilities, probability rules, and combinations and permutations."
   ]
  }
 ],
 "metadata": {
  "kernelspec": {
   "display_name": "Python 3",
   "language": "python",
   "name": "python3"
  },
  "language_info": {
   "codemirror_mode": {
    "name": "ipython",
    "version": 3
   },
   "file_extension": ".py",
   "mimetype": "text/x-python",
   "name": "python",
   "nbconvert_exporter": "python",
   "pygments_lexer": "ipython3",
   "version": "3.7.6"
  }
 },
 "nbformat": 4,
 "nbformat_minor": 2
}
